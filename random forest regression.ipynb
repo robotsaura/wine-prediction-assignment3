{
 "cells": [
  {
   "cell_type": "code",
   "execution_count": 1,
   "id": "020515fe",
   "metadata": {},
   "outputs": [
    {
     "name": "stdout",
     "output_type": "stream",
     "text": [
      "Red Wine Random Forest Regressor Train RMSE: 0.21834135571468008\n",
      "Red Wine Random Forest Regressor Test RMSE: 0.5483250062690921\n",
      "Red Wine Random Forest Regressor Train R2: 0.9267238056087482\n",
      "Red Wine Random Forest Regressor Test R2: 0.5399271357910311\n"
     ]
    }
   ],
   "source": [
    "import pandas as pd\n",
    "from sklearn.model_selection import train_test_split\n",
    "from sklearn.preprocessing import StandardScaler\n",
    "from sklearn.ensemble import RandomForestRegressor\n",
    "from sklearn.metrics import mean_squared_error, r2_score\n",
    "\n",
    "# Load the red wine dataset\n",
    "red_wine = pd.read_csv('winequality-red.csv', delimiter=';')\n",
    "\n",
    "# Prepare the data\n",
    "X_red = red_wine.drop(columns=['quality'])\n",
    "y_red = red_wine['quality']\n",
    "\n",
    "# Split the data into training and test sets\n",
    "X_train_red, X_test_red, y_train_red, y_test_red = train_test_split(X_red, y_red, test_size=0.2, random_state=42)\n",
    "\n",
    "# Standardize the data\n",
    "scaler_red = StandardScaler()\n",
    "X_train_red = scaler_red.fit_transform(X_train_red)\n",
    "X_test_red = scaler_red.transform(X_test_red)\n",
    "\n",
    "# Train the Random Forest regressor\n",
    "rf_regressor_red = RandomForestRegressor(n_estimators=100, random_state=42)\n",
    "rf_regressor_red.fit(X_train_red, y_train_red)\n",
    "\n",
    "# Predict and evaluate\n",
    "y_pred_train_red = rf_regressor_red.predict(X_train_red)\n",
    "y_pred_test_red = rf_regressor_red.predict(X_test_red)\n",
    "\n",
    "print(\"Red Wine Random Forest Regressor Train RMSE:\", mean_squared_error(y_train_red, y_pred_train_red, squared=False))\n",
    "print(\"Red Wine Random Forest Regressor Test RMSE:\", mean_squared_error(y_test_red, y_pred_test_red, squared=False))\n",
    "print(\"Red Wine Random Forest Regressor Train R2:\", r2_score(y_train_red, y_pred_train_red))\n",
    "print(\"Red Wine Random Forest Regressor Test R2:\", r2_score(y_test_red, y_pred_test_red))\n"
   ]
  },
  {
   "cell_type": "code",
   "execution_count": 2,
   "id": "a9705147",
   "metadata": {},
   "outputs": [
    {
     "name": "stdout",
     "output_type": "stream",
     "text": [
      "Model for model_red.pkl\n",
      "Mean Squared Error: 0.30123812499999997\n",
      "Root Mean Squared Error: 0.5488516420673258\n",
      "Mean Absolute Error: 0.4224375\n",
      "R-squared: 0.5390429623873638\n",
      "Model for model_white.pkl\n",
      "Mean Squared Error: 0.34775581632653063\n",
      "Root Mean Squared Error: 0.5897082467852477\n",
      "Mean Absolute Error: 0.4185204081632653\n",
      "R-squared: 0.5509775612930288\n"
     ]
    }
   ],
   "source": [
    "import pandas as pd\n",
    "from sklearn.model_selection import train_test_split\n",
    "from sklearn.ensemble import RandomForestRegressor\n",
    "from sklearn.metrics import mean_squared_error, mean_absolute_error, r2_score\n",
    "import pickle\n",
    "\n",
    "# Load datasets\n",
    "df_red = pd.read_csv('winequality-red.csv', sep=';')\n",
    "df_white = pd.read_csv('winequality-white.csv', sep=';')\n",
    "\n",
    "# Function to train and save a model\n",
    "def train_and_save_model(df, model_filename):\n",
    "    # Split data into features and target\n",
    "    X = df.drop('quality', axis=1)\n",
    "    y = df['quality']\n",
    "\n",
    "    # Split the data into training and testing sets\n",
    "    X_train, X_test, y_train, y_test = train_test_split(X, y, test_size=0.2, random_state=42)\n",
    "\n",
    "    # Initialize and train the model\n",
    "    model = RandomForestRegressor(n_estimators=100, random_state=42)\n",
    "    model.fit(X_train, y_train)\n",
    "\n",
    "    # Predict and evaluate the model\n",
    "    y_pred = model.predict(X_test)\n",
    "    mse = mean_squared_error(y_test, y_pred)\n",
    "    rmse = mse ** 0.5\n",
    "    mae = mean_absolute_error(y_test, y_pred)\n",
    "    r2 = r2_score(y_test, y_pred)\n",
    "\n",
    "    print(f'Model for {model_filename}')\n",
    "    print(f'Mean Squared Error: {mse}')\n",
    "    print(f'Root Mean Squared Error: {rmse}')\n",
    "    print(f'Mean Absolute Error: {mae}')\n",
    "    print(f'R-squared: {r2}')\n",
    "\n",
    "    # Save the trained model\n",
    "    with open(model_filename, 'wb') as f:\n",
    "        pickle.dump(model, f)\n",
    "\n",
    "# Train and save models for red and white wine\n",
    "train_and_save_model(df_red, 'model_red.pkl')\n",
    "train_and_save_model(df_white, 'model_white.pkl')\n"
   ]
  },
  {
   "cell_type": "code",
   "execution_count": null,
   "id": "2b7ad154",
   "metadata": {},
   "outputs": [],
   "source": []
  }
 ],
 "metadata": {
  "kernelspec": {
   "display_name": "Python 3 (ipykernel)",
   "language": "python",
   "name": "python3"
  },
  "language_info": {
   "codemirror_mode": {
    "name": "ipython",
    "version": 3
   },
   "file_extension": ".py",
   "mimetype": "text/x-python",
   "name": "python",
   "nbconvert_exporter": "python",
   "pygments_lexer": "ipython3",
   "version": "3.11.5"
  }
 },
 "nbformat": 4,
 "nbformat_minor": 5
}
