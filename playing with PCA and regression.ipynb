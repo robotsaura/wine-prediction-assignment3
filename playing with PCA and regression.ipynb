{
 "cells": [
  {
   "cell_type": "code",
   "execution_count": 1,
   "id": "1ef625a1",
   "metadata": {},
   "outputs": [
    {
     "name": "stdout",
     "output_type": "stream",
     "text": [
      "Red Wine PCA + Regression Train RMSE: 0.6525031354487609\n",
      "Red Wine PCA + Regression Test RMSE: 0.62650510361538\n",
      "Red Wine PCA + Regression Train R2: 0.34558068824698185\n",
      "Red Wine PCA + Regression Test R2: 0.3993800679438354\n"
     ]
    }
   ],
   "source": [
    "import pandas as pd\n",
    "from sklearn.model_selection import train_test_split\n",
    "from sklearn.preprocessing import StandardScaler\n",
    "from sklearn.decomposition import PCA\n",
    "from sklearn.linear_model import LinearRegression\n",
    "from sklearn.metrics import mean_squared_error, r2_score\n",
    "\n",
    "# Load the red wine dataset\n",
    "red_wine = pd.read_csv('winequality-red.csv', delimiter=';')\n",
    "\n",
    "# Prepare the data\n",
    "X_red = red_wine.drop(columns=['quality'])\n",
    "y_red = red_wine['quality']\n",
    "\n",
    "# Split the data into training and test sets\n",
    "X_train_red, X_test_red, y_train_red, y_test_red = train_test_split(X_red, y_red, test_size=0.2, random_state=42)\n",
    "\n",
    "# Standardize the data\n",
    "scaler_red = StandardScaler()\n",
    "X_train_red = scaler_red.fit_transform(X_train_red)\n",
    "X_test_red = scaler_red.transform(X_test_red)\n",
    "\n",
    "# Perform PCA\n",
    "pca_red = PCA(n_components=0.95)  # Keep 95% of variance\n",
    "X_train_red_pca = pca_red.fit_transform(X_train_red)\n",
    "X_test_red_pca = pca_red.transform(X_test_red)\n",
    "\n",
    "# Train a regression model using the principal components\n",
    "regression_red = LinearRegression()\n",
    "regression_red.fit(X_train_red_pca, y_train_red)\n",
    "\n",
    "# Predict and evaluate\n",
    "y_pred_train_red = regression_red.predict(X_train_red_pca)\n",
    "y_pred_test_red = regression_red.predict(X_test_red_pca)\n",
    "\n",
    "print(\"Red Wine PCA + Regression Train RMSE:\", mean_squared_error(y_train_red, y_pred_train_red, squared=False))\n",
    "print(\"Red Wine PCA + Regression Test RMSE:\", mean_squared_error(y_test_red, y_pred_test_red, squared=False))\n",
    "print(\"Red Wine PCA + Regression Train R2:\", r2_score(y_train_red, y_pred_train_red))\n",
    "print(\"Red Wine PCA + Regression Test R2:\", r2_score(y_test_red, y_pred_test_red))\n"
   ]
  },
  {
   "cell_type": "code",
   "execution_count": null,
   "id": "aa73e96b",
   "metadata": {},
   "outputs": [],
   "source": []
  }
 ],
 "metadata": {
  "kernelspec": {
   "display_name": "Python 3 (ipykernel)",
   "language": "python",
   "name": "python3"
  },
  "language_info": {
   "codemirror_mode": {
    "name": "ipython",
    "version": 3
   },
   "file_extension": ".py",
   "mimetype": "text/x-python",
   "name": "python",
   "nbconvert_exporter": "python",
   "pygments_lexer": "ipython3",
   "version": "3.11.5"
  }
 },
 "nbformat": 4,
 "nbformat_minor": 5
}
