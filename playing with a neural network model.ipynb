{
 "cells": [
  {
   "cell_type": "code",
   "execution_count": 3,
   "id": "6ea1c1d3",
   "metadata": {},
   "outputs": [
    {
     "name": "stdout",
     "output_type": "stream",
     "text": [
      "Unique quality values in red wine dataset: [3, 4, 5, 6, 7, 8]\n",
      "Unique quality values in white wine dataset: [3, 4, 5, 6, 7, 8, 9]\n"
     ]
    }
   ],
   "source": [
    "import pandas as pd\n",
    "\n",
    "# Load the combined dataset\n",
    "combined_wine = pd.read_csv('combined_winequality.csv')\n",
    "\n",
    "# Separate the datasets\n",
    "red_wine = combined_wine[combined_wine['type'] == 1].drop(columns=['type'])\n",
    "white_wine = combined_wine[combined_wine['type'] == 0].drop(columns=['type'])\n",
    "\n",
    "# Print unique quality values\n",
    "print(\"Unique quality values in red wine dataset:\", sorted(red_wine['quality'].unique()))\n",
    "print(\"Unique quality values in white wine dataset:\", sorted(white_wine['quality'].unique()))\n"
   ]
  },
  {
   "cell_type": "code",
   "execution_count": 5,
   "id": "5710a698",
   "metadata": {},
   "outputs": [
    {
     "name": "stdout",
     "output_type": "stream",
     "text": [
      "Red Wine Model Accuracy: 0.6031249761581421\n"
     ]
    }
   ],
   "source": [
    "import pandas as pd\n",
    "from sklearn.model_selection import train_test_split\n",
    "from sklearn.preprocessing import StandardScaler\n",
    "from tensorflow.keras.models import Sequential\n",
    "from tensorflow.keras.layers import Dense\n",
    "from tensorflow.keras.utils import to_categorical\n",
    "\n",
    "# Load the red wine dataset\n",
    "red_wine = pd.read_csv('winequality-red.csv', delimiter=';')\n",
    "\n",
    "# Prepare the data\n",
    "X_red = red_wine.drop(columns=['quality'])\n",
    "y_red = red_wine['quality']\n",
    "\n",
    "# Split the data into training and test sets\n",
    "X_train_red, X_test_red, y_train_red, y_test_red = train_test_split(X_red, y_red, test_size=0.2, random_state=42)\n",
    "\n",
    "# Standardize the data\n",
    "scaler = StandardScaler()\n",
    "X_train_red = scaler.fit_transform(X_train_red)\n",
    "X_test_red = scaler.transform(X_test_red)\n",
    "\n",
    "# One-hot encode the target variable\n",
    "y_train_red = to_categorical(y_train_red)\n",
    "y_test_red = to_categorical(y_test_red)\n",
    "\n",
    "# Build the neural network model\n",
    "model_red = Sequential()\n",
    "model_red.add(Dense(64, input_dim=X_train_red.shape[1], activation='relu'))\n",
    "model_red.add(Dense(32, activation='relu'))\n",
    "model_red.add(Dense(y_train_red.shape[1], activation='softmax'))\n",
    "\n",
    "model_red.compile(loss='categorical_crossentropy', optimizer='adam', metrics=['accuracy'])\n",
    "\n",
    "# Train the model\n",
    "model_red.fit(X_train_red, y_train_red, epochs=50, batch_size=32, verbose=0)\n",
    "\n",
    "# Evaluate the model\n",
    "loss_red, accuracy_red = model_red.evaluate(X_test_red, y_test_red, verbose=0)\n",
    "print(f\"Red Wine Model Accuracy: {accuracy_red}\")\n"
   ]
  },
  {
   "cell_type": "code",
   "execution_count": 9,
   "id": "fc8e144a",
   "metadata": {},
   "outputs": [
    {
     "name": "stdout",
     "output_type": "stream",
     "text": [
      "Unique quality values in white wine dataset: [3, 4, 5, 6, 7, 8, 9]\n",
      "Shape of white wine dataset: (4898, 12)\n"
     ]
    }
   ],
   "source": [
    "import pandas as pd\n",
    "\n",
    "# Load the white wine dataset\n",
    "white_wine = pd.read_csv('winequality-white.csv', delimiter=';')\n",
    "\n",
    "# Print unique quality values\n",
    "print(\"Unique quality values in white wine dataset:\", sorted(white_wine['quality'].unique()))\n",
    "\n",
    "# Print the shape of the dataset\n",
    "print(\"Shape of white wine dataset:\", white_wine.shape)\n"
   ]
  },
  {
   "cell_type": "code",
   "execution_count": 11,
   "id": "9e3df0ee",
   "metadata": {},
   "outputs": [
    {
     "name": "stdout",
     "output_type": "stream",
     "text": [
      "Unique quality values in white wine dataset: [3, 4, 5, 6, 7, 8, 9]\n",
      "Shape of white wine dataset: (4898, 12)\n"
     ]
    }
   ],
   "source": [
    "import pandas as pd\n",
    "\n",
    "# Load the white wine dataset\n",
    "white_wine = pd.read_csv('winequality-white.csv', delimiter=';')\n",
    "\n",
    "# Print unique quality values\n",
    "print(\"Unique quality values in white wine dataset:\", sorted(white_wine['quality'].unique()))\n",
    "\n",
    "# Print the shape of the dataset\n",
    "print(\"Shape of white wine dataset:\", white_wine.shape)\n"
   ]
  },
  {
   "cell_type": "code",
   "execution_count": 12,
   "id": "bcb1bb89",
   "metadata": {},
   "outputs": [
    {
     "name": "stdout",
     "output_type": "stream",
     "text": [
      "Shape of X_train_white: (3918, 11)\n",
      "Shape of X_test_white: (980, 11)\n",
      "Shape of y_train_white: (3918,)\n",
      "Shape of y_test_white: (980,)\n",
      "Shape of y_train_white after one-hot encoding: (3918, 10)\n",
      "Shape of y_test_white after one-hot encoding: (980, 9)\n"
     ]
    }
   ],
   "source": [
    "import pandas as pd\n",
    "from sklearn.model_selection import train_test_split\n",
    "from sklearn.preprocessing import StandardScaler\n",
    "from tensorflow.keras.utils import to_categorical\n",
    "\n",
    "# Load the white wine dataset\n",
    "white_wine = pd.read_csv('winequality-white.csv', delimiter=';')\n",
    "\n",
    "# Prepare the data\n",
    "X_white = white_wine.drop(columns=['quality'])\n",
    "y_white = white_wine['quality']\n",
    "\n",
    "# Split the data into training and test sets\n",
    "X_train_white, X_test_white, y_train_white, y_test_white = train_test_split(X_white, y_white, test_size=0.2, random_state=42)\n",
    "\n",
    "# Standardize the data\n",
    "scaler = StandardScaler()\n",
    "X_train_white = scaler.fit_transform(X_train_white)\n",
    "X_test_white = scaler.transform(X_test_white)\n",
    "\n",
    "# Print the shapes of the split data\n",
    "print(\"Shape of X_train_white:\", X_train_white.shape)\n",
    "print(\"Shape of X_test_white:\", X_test_white.shape)\n",
    "print(\"Shape of y_train_white:\", y_train_white.shape)\n",
    "print(\"Shape of y_test_white:\", y_test_white.shape)\n",
    "\n",
    "# One-hot encode the target variable with fixed categories\n",
    "unique_qualities_white = sorted(y_white.unique())\n",
    "y_train_white = to_categorical(pd.Categorical(y_train_white, categories=unique_qualities_white))\n",
    "y_test_white = to_categorical(pd.Categorical(y_test_white, categories=unique_qualities_white))\n",
    "\n",
    "# Print the shapes after one-hot encoding\n",
    "print(\"Shape of y_train_white after one-hot encoding:\", y_train_white.shape)\n",
    "print(\"Shape of y_test_white after one-hot encoding:\", y_test_white.shape)\n"
   ]
  },
  {
   "cell_type": "code",
   "execution_count": 14,
   "id": "02617c45",
   "metadata": {},
   "outputs": [
    {
     "name": "stdout",
     "output_type": "stream",
     "text": [
      "Unique quality values in white wine dataset: [3, 4, 5, 6, 7, 8, 9]\n",
      "Shape of X_train_white: (3918, 11)\n",
      "Shape of X_test_white: (980, 11)\n",
      "Shape of y_train_white after one-hot encoding: (3918, 10)\n",
      "Shape of y_test_white after one-hot encoding: (980, 10)\n",
      "White Wine Model Accuracy: 0.5795918107032776\n"
     ]
    }
   ],
   "source": [
    "import pandas as pd\n",
    "from sklearn.model_selection import train_test_split\n",
    "from sklearn.preprocessing import StandardScaler\n",
    "from tensorflow.keras.models import Sequential\n",
    "from tensorflow.keras.layers import Dense\n",
    "from tensorflow.keras.utils import to_categorical\n",
    "\n",
    "# Load the white wine dataset\n",
    "white_wine = pd.read_csv('winequality-white.csv', delimiter=';')\n",
    "\n",
    "# Prepare the data\n",
    "X_white = white_wine.drop(columns=['quality'])\n",
    "y_white = white_wine['quality']\n",
    "\n",
    "# Determine unique quality values\n",
    "unique_qualities = sorted(y_white.unique())\n",
    "print(\"Unique quality values in white wine dataset:\", unique_qualities)\n",
    "\n",
    "# One-hot encode the target variable before splitting\n",
    "y_white = to_categorical(pd.Categorical(y_white, categories=unique_qualities))\n",
    "\n",
    "# Split the data into training and test sets\n",
    "X_train_white, X_test_white, y_train_white, y_test_white = train_test_split(X_white, y_white, test_size=0.2, random_state=42)\n",
    "\n",
    "# Standardize the data\n",
    "scaler = StandardScaler()\n",
    "X_train_white = scaler.fit_transform(X_train_white)\n",
    "X_test_white = scaler.transform(X_test_white)\n",
    "\n",
    "# Print the shapes after one-hot encoding\n",
    "print(\"Shape of X_train_white:\", X_train_white.shape)\n",
    "print(\"Shape of X_test_white:\", X_test_white.shape)\n",
    "print(\"Shape of y_train_white after one-hot encoding:\", y_train_white.shape)\n",
    "print(\"Shape of y_test_white after one-hot encoding:\", y_test_white.shape)\n",
    "\n",
    "# Build the neural network model\n",
    "model_white = Sequential()\n",
    "model_white.add(Dense(64, input_dim=X_train_white.shape[1], activation='relu'))\n",
    "model_white.add(Dense(32, activation='relu'))\n",
    "model_white.add(Dense(y_train_white.shape[1], activation='softmax'))\n",
    "\n",
    "model_white.compile(loss='categorical_crossentropy', optimizer='adam', metrics=['accuracy'])\n",
    "\n",
    "# Train the model\n",
    "model_white.fit(X_train_white, y_train_white, epochs=50, batch_size=32, verbose=0)\n",
    "\n",
    "# Evaluate the model\n",
    "loss_white, accuracy_white = model_white.evaluate(X_test_white, y_test_white, verbose=0)\n",
    "print(f\"White Wine Model Accuracy: {accuracy_white}\")\n"
   ]
  },
  {
   "cell_type": "code",
   "execution_count": null,
   "id": "a0dae052",
   "metadata": {},
   "outputs": [],
   "source": []
  }
 ],
 "metadata": {
  "kernelspec": {
   "display_name": "Python 3 (ipykernel)",
   "language": "python",
   "name": "python3"
  },
  "language_info": {
   "codemirror_mode": {
    "name": "ipython",
    "version": 3
   },
   "file_extension": ".py",
   "mimetype": "text/x-python",
   "name": "python",
   "nbconvert_exporter": "python",
   "pygments_lexer": "ipython3",
   "version": "3.11.5"
  }
 },
 "nbformat": 4,
 "nbformat_minor": 5
}
