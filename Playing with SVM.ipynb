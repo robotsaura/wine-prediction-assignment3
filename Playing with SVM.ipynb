{
 "cells": [
  {
   "cell_type": "code",
   "execution_count": 2,
   "id": "f1ad9d72",
   "metadata": {},
   "outputs": [
    {
     "name": "stdout",
     "output_type": "stream",
     "text": [
      "Red Wine SVM Model Accuracy: 0.559375\n",
      "              precision    recall  f1-score   support\n",
      "\n",
      "           3       0.00      0.00      0.00         1\n",
      "           4       0.00      0.00      0.00        10\n",
      "           5       0.60      0.77      0.68       130\n",
      "           6       0.51      0.60      0.55       132\n",
      "           7       0.00      0.00      0.00        42\n",
      "           8       0.00      0.00      0.00         5\n",
      "\n",
      "    accuracy                           0.56       320\n",
      "   macro avg       0.19      0.23      0.20       320\n",
      "weighted avg       0.46      0.56      0.50       320\n",
      "\n",
      "[[  0   0   1   0   0   0]\n",
      " [  0   0   9   1   0   0]\n",
      " [  0   0 100  30   0   0]\n",
      " [  0   0  53  79   0   0]\n",
      " [  0   0   3  39   0   0]\n",
      " [  0   0   0   5   0   0]]\n"
     ]
    },
    {
     "name": "stderr",
     "output_type": "stream",
     "text": [
      "/Users/robotsaura/anaconda3/lib/python3.11/site-packages/sklearn/metrics/_classification.py:1469: UndefinedMetricWarning: Precision and F-score are ill-defined and being set to 0.0 in labels with no predicted samples. Use `zero_division` parameter to control this behavior.\n",
      "  _warn_prf(average, modifier, msg_start, len(result))\n",
      "/Users/robotsaura/anaconda3/lib/python3.11/site-packages/sklearn/metrics/_classification.py:1469: UndefinedMetricWarning: Precision and F-score are ill-defined and being set to 0.0 in labels with no predicted samples. Use `zero_division` parameter to control this behavior.\n",
      "  _warn_prf(average, modifier, msg_start, len(result))\n",
      "/Users/robotsaura/anaconda3/lib/python3.11/site-packages/sklearn/metrics/_classification.py:1469: UndefinedMetricWarning: Precision and F-score are ill-defined and being set to 0.0 in labels with no predicted samples. Use `zero_division` parameter to control this behavior.\n",
      "  _warn_prf(average, modifier, msg_start, len(result))\n"
     ]
    }
   ],
   "source": [
    "import pandas as pd\n",
    "from sklearn.model_selection import train_test_split\n",
    "from sklearn.preprocessing import StandardScaler\n",
    "from sklearn.svm import SVC\n",
    "from sklearn.metrics import accuracy_score, classification_report, confusion_matrix\n",
    "\n",
    "# Load the red wine dataset\n",
    "red_wine = pd.read_csv('winequality-red.csv', delimiter=';')\n",
    "\n",
    "# Prepare the data\n",
    "X_red = red_wine.drop(columns=['quality'])\n",
    "y_red = red_wine['quality']\n",
    "\n",
    "# Split the data into training and test sets\n",
    "X_train_red, X_test_red, y_train_red, y_test_red = train_test_split(X_red, y_red, test_size=0.2, random_state=42)\n",
    "\n",
    "# Standardize the data\n",
    "scaler_red = StandardScaler()\n",
    "X_train_red = scaler_red.fit_transform(X_train_red)\n",
    "X_test_red = scaler_red.transform(X_test_red)\n",
    "\n",
    "# Train SVM for red wine\n",
    "svm_red = SVC(kernel='linear', random_state=42)\n",
    "svm_red.fit(X_train_red, y_train_red)\n",
    "\n",
    "# Predict and evaluate for red wine\n",
    "y_pred_red = svm_red.predict(X_test_red)\n",
    "accuracy_red = accuracy_score(y_test_red, y_pred_red)\n",
    "print(f\"Red Wine SVM Model Accuracy: {accuracy_red}\")\n",
    "print(classification_report(y_test_red, y_pred_red))\n",
    "print(confusion_matrix(y_test_red, y_pred_red))\n"
   ]
  },
  {
   "cell_type": "code",
   "execution_count": 3,
   "id": "eb72a390",
   "metadata": {},
   "outputs": [
    {
     "name": "stdout",
     "output_type": "stream",
     "text": [
      "White Wine SVM Model Accuracy: 0.5091836734693878\n",
      "              precision    recall  f1-score   support\n",
      "\n",
      "           3       0.00      0.00      0.00         5\n",
      "           4       0.00      0.00      0.00        25\n",
      "           5       0.56      0.53      0.55       291\n",
      "           6       0.49      0.80      0.61       432\n",
      "           7       0.00      0.00      0.00       192\n",
      "           8       0.00      0.00      0.00        35\n",
      "\n",
      "    accuracy                           0.51       980\n",
      "   macro avg       0.18      0.22      0.19       980\n",
      "weighted avg       0.38      0.51      0.43       980\n",
      "\n",
      "[[  0   0   2   3   0   0]\n",
      " [  0   0  14  11   0   0]\n",
      " [  0   0 155 136   0   0]\n",
      " [  0   0  88 344   0   0]\n",
      " [  0   0  15 177   0   0]\n",
      " [  0   0   1  34   0   0]]\n"
     ]
    },
    {
     "name": "stderr",
     "output_type": "stream",
     "text": [
      "/Users/robotsaura/anaconda3/lib/python3.11/site-packages/sklearn/metrics/_classification.py:1469: UndefinedMetricWarning: Precision and F-score are ill-defined and being set to 0.0 in labels with no predicted samples. Use `zero_division` parameter to control this behavior.\n",
      "  _warn_prf(average, modifier, msg_start, len(result))\n",
      "/Users/robotsaura/anaconda3/lib/python3.11/site-packages/sklearn/metrics/_classification.py:1469: UndefinedMetricWarning: Precision and F-score are ill-defined and being set to 0.0 in labels with no predicted samples. Use `zero_division` parameter to control this behavior.\n",
      "  _warn_prf(average, modifier, msg_start, len(result))\n",
      "/Users/robotsaura/anaconda3/lib/python3.11/site-packages/sklearn/metrics/_classification.py:1469: UndefinedMetricWarning: Precision and F-score are ill-defined and being set to 0.0 in labels with no predicted samples. Use `zero_division` parameter to control this behavior.\n",
      "  _warn_prf(average, modifier, msg_start, len(result))\n"
     ]
    }
   ],
   "source": [
    "# Load the white wine dataset\n",
    "white_wine = pd.read_csv('winequality-white.csv', delimiter=';')\n",
    "\n",
    "# Prepare the data\n",
    "X_white = white_wine.drop(columns=['quality'])\n",
    "y_white = white_wine['quality']\n",
    "\n",
    "# Split the data into training and test sets\n",
    "X_train_white, X_test_white, y_train_white, y_test_white = train_test_split(X_white, y_white, test_size=0.2, random_state=42)\n",
    "\n",
    "# Standardize the data\n",
    "scaler_white = StandardScaler()\n",
    "X_train_white = scaler_white.fit_transform(X_train_white)\n",
    "X_test_white = scaler_white.transform(X_test_white)\n",
    "\n",
    "# Train SVM for white wine\n",
    "svm_white = SVC(kernel='linear', random_state=42)\n",
    "svm_white.fit(X_train_white, y_train_white)\n",
    "\n",
    "# Predict and evaluate for white wine\n",
    "y_pred_white = svm_white.predict(X_test_white)\n",
    "accuracy_white = accuracy_score(y_test_white, y_pred_white)\n",
    "print(f\"White Wine SVM Model Accuracy: {accuracy_white}\")\n",
    "print(classification_report(y_test_white, y_pred_white))\n",
    "print(confusion_matrix(y_test_white, y_pred_white))\n"
   ]
  },
  {
   "cell_type": "code",
   "execution_count": 4,
   "id": "5affb8db",
   "metadata": {},
   "outputs": [
    {
     "name": "stdout",
     "output_type": "stream",
     "text": [
      "Combined Wine SVM Model Accuracy: 0.55\n",
      "              precision    recall  f1-score   support\n",
      "\n",
      "           3       0.00      0.00      0.00         1\n",
      "           4       0.00      0.00      0.00        15\n",
      "           5       0.62      0.62      0.62       250\n",
      "           6       0.50      0.72      0.59       273\n",
      "           7       0.00      0.00      0.00        84\n",
      "           8       0.00      0.00      0.00        17\n",
      "\n",
      "    accuracy                           0.55       640\n",
      "   macro avg       0.19      0.22      0.20       640\n",
      "weighted avg       0.46      0.55      0.50       640\n",
      "\n",
      "[[  0   0   1   0   0   0]\n",
      " [  0   0  10   5   0   0]\n",
      " [  0   0 155  95   0   0]\n",
      " [  0   0  76 197   0   0]\n",
      " [  0   0   6  78   0   0]\n",
      " [  0   0   1  16   0   0]]\n"
     ]
    },
    {
     "name": "stderr",
     "output_type": "stream",
     "text": [
      "/Users/robotsaura/anaconda3/lib/python3.11/site-packages/sklearn/metrics/_classification.py:1469: UndefinedMetricWarning: Precision and F-score are ill-defined and being set to 0.0 in labels with no predicted samples. Use `zero_division` parameter to control this behavior.\n",
      "  _warn_prf(average, modifier, msg_start, len(result))\n",
      "/Users/robotsaura/anaconda3/lib/python3.11/site-packages/sklearn/metrics/_classification.py:1469: UndefinedMetricWarning: Precision and F-score are ill-defined and being set to 0.0 in labels with no predicted samples. Use `zero_division` parameter to control this behavior.\n",
      "  _warn_prf(average, modifier, msg_start, len(result))\n",
      "/Users/robotsaura/anaconda3/lib/python3.11/site-packages/sklearn/metrics/_classification.py:1469: UndefinedMetricWarning: Precision and F-score are ill-defined and being set to 0.0 in labels with no predicted samples. Use `zero_division` parameter to control this behavior.\n",
      "  _warn_prf(average, modifier, msg_start, len(result))\n"
     ]
    }
   ],
   "source": [
    "# Load the combined dataset\n",
    "combined_wine = pd.read_csv('combined_winequality.csv')\n",
    "\n",
    "# Separate the datasets\n",
    "red_wine = combined_wine[combined_wine['type'] == 1].drop(columns=['type'])\n",
    "white_wine = combined_wine[combined_wine['type'] == 0].drop(columns=['type'])\n",
    "\n",
    "# Balance the combined dataset\n",
    "min_count = min(len(red_wine), len(white_wine))\n",
    "balanced_red = red_wine.sample(n=min_count, random_state=42)\n",
    "balanced_white = white_wine.sample(n=min_count, random_state=42)\n",
    "balanced_combined = pd.concat([balanced_red, balanced_white])\n",
    "\n",
    "# Prepare the data for the combined model\n",
    "X_combined = balanced_combined.drop(columns=['quality'])\n",
    "y_combined = balanced_combined['quality']\n",
    "\n",
    "# Split the data into training and test sets\n",
    "X_train_combined, X_test_combined, y_train_combined, y_test_combined = train_test_split(X_combined, y_combined, test_size=0.2, random_state=42)\n",
    "\n",
    "# Standardize the data\n",
    "scaler_combined = StandardScaler()\n",
    "X_train_combined = scaler_combined.fit_transform(X_train_combined)\n",
    "X_test_combined = scaler_combined.transform(X_test_combined)\n",
    "\n",
    "# Train SVM for combined data\n",
    "svm_combined = SVC(kernel='linear', random_state=42)\n",
    "svm_combined.fit(X_train_combined, y_train_combined)\n",
    "\n",
    "# Predict and evaluate for combined data\n",
    "y_pred_combined = svm_combined.predict(X_test_combined)\n",
    "accuracy_combined = accuracy_score(y_test_combined, y_pred_combined)\n",
    "print(f\"Combined Wine SVM Model Accuracy: {accuracy_combined}\")\n",
    "print(classification_report(y_test_combined, y_pred_combined))\n",
    "print(confusion_matrix(y_test_combined, y_pred_combined))\n"
   ]
  },
  {
   "cell_type": "code",
   "execution_count": null,
   "id": "20039002",
   "metadata": {},
   "outputs": [],
   "source": []
  }
 ],
 "metadata": {
  "kernelspec": {
   "display_name": "Python 3 (ipykernel)",
   "language": "python",
   "name": "python3"
  },
  "language_info": {
   "codemirror_mode": {
    "name": "ipython",
    "version": 3
   },
   "file_extension": ".py",
   "mimetype": "text/x-python",
   "name": "python",
   "nbconvert_exporter": "python",
   "pygments_lexer": "ipython3",
   "version": "3.11.5"
  }
 },
 "nbformat": 4,
 "nbformat_minor": 5
}
