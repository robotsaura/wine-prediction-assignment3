{
 "cells": [
  {
   "cell_type": "code",
   "execution_count": 1,
   "id": "970a6eff",
   "metadata": {},
   "outputs": [
    {
     "name": "stdout",
     "output_type": "stream",
     "text": [
      "Red Wine Regression Train RMSE: 0.6512995910592836\n",
      "Red Wine Regression Test RMSE: 0.624519930798013\n",
      "Red Wine Regression Train R2: 0.3479926193529862\n",
      "Red Wine Regression Test R2: 0.4031803412796219\n"
     ]
    }
   ],
   "source": [
    "import pandas as pd\n",
    "from sklearn.model_selection import train_test_split\n",
    "from sklearn.preprocessing import StandardScaler\n",
    "from sklearn.linear_model import LinearRegression\n",
    "from sklearn.metrics import mean_squared_error, r2_score\n",
    "\n",
    "# Load the red wine dataset\n",
    "red_wine = pd.read_csv('winequality-red.csv', delimiter=';')\n",
    "\n",
    "# Prepare the data\n",
    "X_red = red_wine.drop(columns=['quality'])\n",
    "y_red = red_wine['quality']\n",
    "\n",
    "# Split the data into training and test sets\n",
    "X_train_red, X_test_red, y_train_red, y_test_red = train_test_split(X_red, y_red, test_size=0.2, random_state=42)\n",
    "\n",
    "# Standardize the data\n",
    "scaler_red = StandardScaler()\n",
    "X_train_red = scaler_red.fit_transform(X_train_red)\n",
    "X_test_red = scaler_red.transform(X_test_red)\n",
    "\n",
    "# Train the Linear Regression model\n",
    "regression_red = LinearRegression()\n",
    "regression_red.fit(X_train_red, y_train_red)\n",
    "\n",
    "# Predict and evaluate\n",
    "y_pred_train_red = regression_red.predict(X_train_red)\n",
    "y_pred_test_red = regression_red.predict(X_test_red)\n",
    "\n",
    "print(\"Red Wine Regression Train RMSE:\", mean_squared_error(y_train_red, y_pred_train_red, squared=False))\n",
    "print(\"Red Wine Regression Test RMSE:\", mean_squared_error(y_test_red, y_pred_test_red, squared=False))\n",
    "print(\"Red Wine Regression Train R2:\", r2_score(y_train_red, y_pred_train_red))\n",
    "print(\"Red Wine Regression Test R2:\", r2_score(y_test_red, y_pred_test_red))\n"
   ]
  },
  {
   "cell_type": "code",
   "execution_count": 2,
   "id": "524ab0ab",
   "metadata": {},
   "outputs": [
    {
     "data": {
      "text/plain": [
       "fixed acidity           0\n",
       "volatile acidity        0\n",
       "citric acid             0\n",
       "residual sugar          0\n",
       "chlorides               0\n",
       "free sulfur dioxide     0\n",
       "total sulfur dioxide    0\n",
       "density                 0\n",
       "pH                      0\n",
       "sulphates               0\n",
       "alcohol                 0\n",
       "quality                 0\n",
       "dtype: int64"
      ]
     },
     "execution_count": 2,
     "metadata": {},
     "output_type": "execute_result"
    }
   ],
   "source": [
    "red_wine.isnull().sum()"
   ]
  },
  {
   "cell_type": "code",
   "execution_count": null,
   "id": "84bb396f",
   "metadata": {},
   "outputs": [],
   "source": []
  }
 ],
 "metadata": {
  "kernelspec": {
   "display_name": "Python 3 (ipykernel)",
   "language": "python",
   "name": "python3"
  },
  "language_info": {
   "codemirror_mode": {
    "name": "ipython",
    "version": 3
   },
   "file_extension": ".py",
   "mimetype": "text/x-python",
   "name": "python",
   "nbconvert_exporter": "python",
   "pygments_lexer": "ipython3",
   "version": "3.11.5"
  }
 },
 "nbformat": 4,
 "nbformat_minor": 5
}
