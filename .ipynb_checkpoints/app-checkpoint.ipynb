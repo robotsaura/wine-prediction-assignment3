{
 "cells": [
  {
   "cell_type": "code",
   "execution_count": null,
   "id": "d26e32ac",
   "metadata": {},
   "outputs": [],
   "source": [
    "from flask import Flask, request, jsonify\n",
    "import pandas as pd\n",
    "import pickle\n",
    "\n",
    "app = Flask(__name__)\n",
    "\n",
    "# Load the trained models\n",
    "model_red = pickle.load(open('model_red.pkl', 'rb'))\n",
    "model_white = pickle.load(open('model_white.pkl', 'rb'))\n",
    "\n",
    "@app.route('/predict', methods=['POST'])\n",
    "def predict():\n",
    "    data = request.get_json(force=True)\n",
    "    wine_type = data.pop('wine_type', None)\n",
    "    \n",
    "    if wine_type == 0:\n",
    "        prediction = model_red.predict(pd.DataFrame([data]))\n",
    "    elif wine_type == 1:\n",
    "        prediction = model_white.predict(pd.DataFrame([data]))\n",
    "    else:\n",
    "        return jsonify({\"error\": \"Invalid wine_type. Use 0 for red wine and 1 for white wine.\"}), 400\n",
    "\n",
    "    return jsonify(prediction[0])\n",
    "\n",
    "if __name__ == '__main__':\n",
    "    app.run(debug=True, host='0.0.0.0', port=80)\n"
   ]
  }
 ],
 "metadata": {
  "kernelspec": {
   "display_name": "Python 3 (ipykernel)",
   "language": "python",
   "name": "python3"
  },
  "language_info": {
   "codemirror_mode": {
    "name": "ipython",
    "version": 3
   },
   "file_extension": ".py",
   "mimetype": "text/x-python",
   "name": "python",
   "nbconvert_exporter": "python",
   "pygments_lexer": "ipython3",
   "version": "3.11.5"
  }
 },
 "nbformat": 4,
 "nbformat_minor": 5
}
